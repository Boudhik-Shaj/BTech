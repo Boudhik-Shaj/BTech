{
  "nbformat": 4,
  "nbformat_minor": 0,
  "metadata": {
    "colab": {
      "provenance": [],
      "collapsed_sections": []
    },
    "kernelspec": {
      "name": "python3",
      "display_name": "Python 3"
    },
    "language_info": {
      "name": "python"
    }
  },
  "cells": [
    {
      "cell_type": "markdown",
      "source": [
        "**Practice Lab Sheet**\n",
        "\n",
        "---\n",
        "Name: Faheem V\n",
        "Roll No: AM.EN.U4CSE20323\n"
      ],
      "metadata": {
        "id": "usYC9BeEU5df"
      }
    },
    {
      "cell_type": "markdown",
      "source": [
        "1. Write a python program to check whether a number is divisible by 7 or not."
      ],
      "metadata": {
        "id": "M0WPKAB-WkHX"
      }
    },
    {
      "cell_type": "code",
      "execution_count": null,
      "metadata": {
        "id": "piPcrSMjQMbN",
        "colab": {
          "base_uri": "https://localhost:8080/"
        },
        "outputId": "e0db16a2-0f36-4104-afa6-0b5466d85835"
      },
      "outputs": [
        {
          "output_type": "stream",
          "name": "stdout",
          "text": [
            "Enter Number: 49\n",
            "The number is divisible by 7.\n"
          ]
        }
      ],
      "source": [
        "x = int(input(\"Enter Number: \"))\n",
        "if x%7==0:\n",
        "  print(\"The number is divisible by 7.\")\n",
        "else:\n",
        "  print(\"The number is NOT divisible by 7.\")\n"
      ]
    },
    {
      "cell_type": "markdown",
      "source": [
        "2. Write  a  python program to  input  marks  of five  subjects  Physics,  Chemistry,  Biology, Mathematics and Computer. Calculate percentage and grade according to following:\n",
        "Percentage >= 90% : Grade A\n",
        "Percentage >= 80% : Grade B\n",
        "Percentage >= 70% : Grade C\n",
        "Percentage >= 60% : Grade D\n",
        "Percentage >= 40% : Grade E\n",
        "Percentage < 40% : Grade F\n",
        "NB:-Marks ranges from 0 –100. Need to check for the invalid inputs."
      ],
      "metadata": {
        "id": "lJbZNFIYrzmF"
      }
    },
    {
      "cell_type": "code",
      "source": [
        "p = int(input(\"Enter Marks for Physics: \"))\n",
        "c = int(input(\"Enter Marks for Chemistry: \"))\n",
        "b = int(input(\"Enter Marks for Biology: \"))\n",
        "m = int(input(\"Enter Marks for Maths: \"))\n",
        "com = int(input(\"Enter Marks for Computers: \"))\n",
        "sum = p+c+b+m+com\n",
        "avg = (sum/500)*100\n",
        "if(avg>=90):\n",
        "  print(\"Grade A.\")\n",
        "elif(avg>=80):\n",
        "  print(\"Grade B.\")\n",
        "elif(avg>=70):\n",
        "  print(\"Grade C.\")\n",
        "elif(avg>=60):\n",
        "  print(\"Grade D\")\n",
        "elif(avg>=50):\n",
        "  print(\"Grade E\")\n",
        "elif(avg<40):\n",
        "  print(\"Grade F\")"
      ],
      "metadata": {
        "colab": {
          "base_uri": "https://localhost:8080/"
        },
        "id": "rlDoDP0QWAXx",
        "outputId": "90679103-2942-40e1-915b-436c103a3521"
      },
      "execution_count": null,
      "outputs": [
        {
          "output_type": "stream",
          "name": "stdout",
          "text": [
            "Enter Marks for Physics: 90\n",
            "Enter Marks for Chemistry: 90\n",
            "Enter Marks for Biology: 90\n",
            "Enter Marks for Maths: 90\n",
            "Enter Marks for Computers: 90\n",
            "Grade A.\n"
          ]
        }
      ]
    },
    {
      "cell_type": "markdown",
      "source": [
        "3. Write a python program to find sum of all even numbers between 1 to n."
      ],
      "metadata": {
        "id": "ygYxffCssNvL"
      }
    },
    {
      "cell_type": "code",
      "source": [
        "n = int(input(\"Enter n: \"))\n",
        "sum = 0\n",
        "for x in range(n+1):\n",
        "  if(x%2==0):\n",
        "    sum=sum+x\n",
        "print(sum)"
      ],
      "metadata": {
        "colab": {
          "base_uri": "https://localhost:8080/"
        },
        "id": "hC1sFJm9sXd4",
        "outputId": "63680066-f4d2-4516-a611-836b55abe232"
      },
      "execution_count": 2,
      "outputs": [
        {
          "output_type": "stream",
          "name": "stdout",
          "text": [
            "Enter n: 10\n",
            "30\n"
          ]
        }
      ]
    },
    {
      "cell_type": "markdown",
      "source": [
        "4. Write a python programto print multiplication table of a given number."
      ],
      "metadata": {
        "id": "rJge8Q8Rt88z"
      }
    },
    {
      "cell_type": "code",
      "source": [
        "n = int(input(\"Enter number: \"))\n",
        "for x in range(1,11):\n",
        "  print(x,\" x \",n,\" = \",x*n) "
      ],
      "metadata": {
        "colab": {
          "base_uri": "https://localhost:8080/"
        },
        "id": "fS8FFUP5uKky",
        "outputId": "b7370645-bf46-43b2-8d10-38f2127c81bb"
      },
      "execution_count": 3,
      "outputs": [
        {
          "output_type": "stream",
          "name": "stdout",
          "text": [
            "Enter number: 3\n",
            "1  x  3  =  3\n",
            "2  x  3  =  6\n",
            "3  x  3  =  9\n",
            "4  x  3  =  12\n",
            "5  x  3  =  15\n",
            "6  x  3  =  18\n",
            "7  x  3  =  21\n",
            "8  x  3  =  24\n",
            "9  x  3  =  27\n",
            "10  x  3  =  30\n"
          ]
        }
      ]
    },
    {
      "cell_type": "markdown",
      "source": [
        "5. Write a python program to check whether a number is Armstrong number or not."
      ],
      "metadata": {
        "id": "bf91Zx1GuyY2"
      }
    },
    {
      "cell_type": "code",
      "source": [
        "num = int(input(\"Enter a number: \"))\n",
        "sum = 0\n",
        "temp = num\n",
        "while temp > 0:\n",
        "   digit = temp % 10\n",
        "   sum += digit ** 3\n",
        "   temp //= 10\n",
        "if num == sum:\n",
        "   print(num,\"is an Armstrong number\")\n",
        "else:\n",
        "   print(num,\"is not an Armstrong number\")"
      ],
      "metadata": {
        "colab": {
          "base_uri": "https://localhost:8080/"
        },
        "id": "WCerhaSnxsz2",
        "outputId": "7ff9eaae-0440-4056-98d9-e564c2aa2862"
      },
      "execution_count": 8,
      "outputs": [
        {
          "output_type": "stream",
          "name": "stdout",
          "text": [
            "Enter a number: 407\n",
            "407 is an Armstrong number\n"
          ]
        }
      ]
    },
    {
      "cell_type": "markdown",
      "source": [
        "6. Write a python program to print Fibonacci series up to n terms"
      ],
      "metadata": {
        "id": "CbeU1Az9P6K-"
      }
    },
    {
      "cell_type": "code",
      "source": [
        "nterms = int(input(\"Enter n? \"))\n",
        "n1, n2 = 0, 1\n",
        "count = 0\n",
        "if nterms <= 0:\n",
        "   print(\"Please enter a positive integer\")\n",
        "elif nterms == 1:\n",
        "   print(\"Fibonacci sequence upto\",nterms,\":\")\n",
        "   print(n1)\n",
        "else:\n",
        "   print(\"Fibonacci sequence:\")\n",
        "   while count < nterms:\n",
        "       print(n1)\n",
        "       nth = n1 + n2\n",
        "       # update values\n",
        "       n1 = n2\n",
        "       n2 = nth\n",
        "       count += 1"
      ],
      "metadata": {
        "colab": {
          "base_uri": "https://localhost:8080/"
        },
        "id": "41YL4i23P_oU",
        "outputId": "0f8e9b7c-65db-4f86-bd99-a78c4c939846"
      },
      "execution_count": 1,
      "outputs": [
        {
          "output_type": "stream",
          "name": "stdout",
          "text": [
            "Enter n? 10\n",
            "Fibonacci sequence:\n",
            "0\n",
            "1\n",
            "1\n",
            "2\n",
            "3\n",
            "5\n",
            "8\n",
            "13\n",
            "21\n",
            "34\n"
          ]
        }
      ]
    },
    {
      "cell_type": "markdown",
      "source": [
        "7. Write a python program to solve Quadratic Equation"
      ],
      "metadata": {
        "id": "1Ruzu9Y2QbTq"
      }
    },
    {
      "cell_type": "code",
      "source": [
        "\n",
        "import cmath\n",
        "\n",
        "a = int(input(\"a: \"))\n",
        "b = int(input(\"b: \"))\n",
        "c = int(input(\"c: \"))\n",
        "dis = (b**2) - (4 * a*c)\n",
        "ans1 = (-b-cmath.sqrt(dis))/(2 * a)\n",
        "ans2 = (-b + cmath.sqrt(dis))/(2 * a)\n",
        "print('The roots are')\n",
        "print(ans1)\n",
        "print(ans2)"
      ],
      "metadata": {
        "colab": {
          "base_uri": "https://localhost:8080/"
        },
        "id": "Qt4uBId9QkeD",
        "outputId": "dd67bdfa-9bbd-4cd7-b3d2-bfbda0026a72"
      },
      "execution_count": 4,
      "outputs": [
        {
          "output_type": "stream",
          "name": "stdout",
          "text": [
            "a: 1\n",
            "b: 4\n",
            "c: 2\n",
            "The roots are\n",
            "(-3.414213562373095+0j)\n",
            "(-0.5857864376269049+0j)\n"
          ]
        }
      ]
    },
    {
      "cell_type": "markdown",
      "source": [
        "8. To  check  whether  a  number  is  palindrome  or  not and  returns  True  or  False respectively."
      ],
      "metadata": {
        "id": "XvNwXigPRVWl"
      }
    },
    {
      "cell_type": "code",
      "source": [
        "n=int(input(\"Enter number:\"))\n",
        "temp=n\n",
        "rev=0\n",
        "while(n>0):\n",
        "    dig=n%10\n",
        "    rev=rev*10+dig\n",
        "    n=n//10\n",
        "if(temp==rev):\n",
        "    print(\"True\")\n",
        "else:\n",
        "    print(\"False\")"
      ],
      "metadata": {
        "colab": {
          "base_uri": "https://localhost:8080/"
        },
        "id": "pQdo_D28RZm-",
        "outputId": "aa7fa2bb-fc51-4bce-e778-0eb0c60efd51"
      },
      "execution_count": 5,
      "outputs": [
        {
          "output_type": "stream",
          "name": "stdout",
          "text": [
            "Enter number:121\n",
            "True\n"
          ]
        }
      ]
    },
    {
      "cell_type": "markdown",
      "source": [
        "9. That accept an integer  number, find if it is Disarium number or not"
      ],
      "metadata": {
        "id": "lyPSU8BRR2iL"
      }
    },
    {
      "cell_type": "code",
      "source": [
        "import math\n",
        "\n",
        "def disarium(n) :\n",
        " \n",
        "    count_digits = len(str(n))\n",
        "      \n",
        "    sum = 0  \n",
        "    x = n\n",
        "    while (x!=0) :\n",
        " \n",
        "        r = x % 10\n",
        "          \n",
        "        sum = (int) (sum + math.pow(r, count_digits))\n",
        "        count_digits = count_digits - 1\n",
        "        x = x//10\n",
        "        \n",
        "    if sum == n :\n",
        "        return 1\n",
        "    else :\n",
        "        return 0\n",
        "n = int(input(\"Enter n: \"))\n",
        "if (disarium(n) == 1) :\n",
        "    print (\"Disarium Number\")\n",
        "else :\n",
        "    print (\"Not a Disarium Number\")"
      ],
      "metadata": {
        "colab": {
          "base_uri": "https://localhost:8080/"
        },
        "id": "vrInUIUsR9jp",
        "outputId": "7cf5b738-1931-4903-e98e-be295adab78f"
      },
      "execution_count": 6,
      "outputs": [
        {
          "output_type": "stream",
          "name": "stdout",
          "text": [
            "Enter n: 135\n",
            "Disarium Number\n"
          ]
        }
      ]
    },
    {
      "cell_type": "markdown",
      "source": [
        "10. That accepts a string, check for Palindrome and returns True or False respectively."
      ],
      "metadata": {
        "id": "2wAru9GESgg4"
      }
    },
    {
      "cell_type": "code",
      "source": [
        "def isPalindrome(s):\n",
        "    return s == s[::-1]\n",
        "s = input(\"Enter string: \")\n",
        "ans = isPalindrome(s)\n",
        " \n",
        "if ans:\n",
        "    print(\"Yes\")\n",
        "else:\n",
        "    print(\"No\")"
      ],
      "metadata": {
        "colab": {
          "base_uri": "https://localhost:8080/"
        },
        "id": "6RQu74ZASf-M",
        "outputId": "a8cd2d78-5fc9-4eb5-f26d-e14abcee2fc7"
      },
      "execution_count": 7,
      "outputs": [
        {
          "output_type": "stream",
          "name": "stdout",
          "text": [
            "Enter string: malayalam\n",
            "Yes\n"
          ]
        }
      ]
    },
    {
      "cell_type": "markdown",
      "source": [
        "11. To check whether a number is Prime number or not."
      ],
      "metadata": {
        "id": "g-KyisscS_FS"
      }
    },
    {
      "cell_type": "code",
      "source": [
        "\n",
        "num = int(input(\"Enter number: \"))\n",
        "if num > 1:\n",
        "    for i in range(2, int(num/2)+1):\n",
        "        if (num % i) == 0:\n",
        "            print(num, \"is not a prime number\")\n",
        "            break\n",
        "    else:\n",
        "        print(num, \"is a prime number\")\n",
        "else:\n",
        "    print(num, \"is not a prime number\")"
      ],
      "metadata": {
        "colab": {
          "base_uri": "https://localhost:8080/"
        },
        "id": "CgRTEtzyTCrn",
        "outputId": "28ac206a-edac-4c92-f341-10c81d64037f"
      },
      "execution_count": 8,
      "outputs": [
        {
          "output_type": "stream",
          "name": "stdout",
          "text": [
            "Enter number: 7\n",
            "7 is a prime number\n"
          ]
        }
      ]
    },
    {
      "cell_type": "markdown",
      "source": [
        "12. To calculate the factorial of a number (a non-negative integer). Pass the integer as an argument and return the factorial."
      ],
      "metadata": {
        "id": "qoQJHJuYTuEO"
      }
    },
    {
      "cell_type": "code",
      "source": [
        "def factorial(n):\n",
        "      \n",
        "    if n == 0:\n",
        "        return 1\n",
        "     \n",
        "    return n * factorial(n-1)\n",
        "num = int(input(\"Enter number: \"))\n",
        "print(\"Factorial of\", num, \"is\",\n",
        "factorial(num))"
      ],
      "metadata": {
        "colab": {
          "base_uri": "https://localhost:8080/"
        },
        "id": "sY5V0QKmTzuL",
        "outputId": "f50f359d-615c-475d-9508-2125559709e4"
      },
      "execution_count": 9,
      "outputs": [
        {
          "output_type": "stream",
          "name": "stdout",
          "text": [
            "Enter number: 5\n",
            "Factorial of 5 is 120\n"
          ]
        }
      ]
    },
    {
      "cell_type": "markdown",
      "source": [
        "13. That accepts a number and findthe harmonic sum of that number."
      ],
      "metadata": {
        "id": "r4IX-HwxUA92"
      }
    },
    {
      "cell_type": "code",
      "source": [
        "def sum(n):\n",
        "    i = 1\n",
        "    s = 0.0\n",
        "    for i in range(1, n+1):\n",
        "        s = s + 1/i;\n",
        "    return s;\n",
        "n = int(input(\"Enter number: \"))\n",
        "print(\"Sum is\", round(sum(n), 6))"
      ],
      "metadata": {
        "colab": {
          "base_uri": "https://localhost:8080/"
        },
        "id": "-7KOJPGAUMI0",
        "outputId": "adaf37e2-09ca-4ef8-ea42-46cdb45a0756"
      },
      "execution_count": 11,
      "outputs": [
        {
          "output_type": "stream",
          "name": "stdout",
          "text": [
            "Enter number: 3\n",
            "Sum is 1.833333\n"
          ]
        }
      ]
    },
    {
      "cell_type": "markdown",
      "source": [
        "14. That accepts a number and find the sum of geometric series of that number. (Hint: Geometric series of 4 = 1+1/2+1/4+1/8)"
      ],
      "metadata": {
        "id": "RBir0BonUhgU"
      }
    },
    {
      "cell_type": "code",
      "source": [
        "def sum(n):\n",
        "     \n",
        "    if n == 0:\n",
        "        return 1\n",
        "     \n",
        "    return 1 / pow(3, n) + sum(n-1)\n",
        "n = int(input(\"Enter number: \"))\n",
        "print(sum(n));"
      ],
      "metadata": {
        "colab": {
          "base_uri": "https://localhost:8080/"
        },
        "id": "620XKU0YUlmu",
        "outputId": "cddcf634-0599-444d-c5c4-eca2f152aab6"
      },
      "execution_count": 12,
      "outputs": [
        {
          "output_type": "stream",
          "name": "stdout",
          "text": [
            "Enter number: 4\n",
            "1.4938271604938271\n"
          ]
        }
      ]
    }
  ]
}